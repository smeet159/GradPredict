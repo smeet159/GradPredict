{
  "nbformat": 4,
  "nbformat_minor": 0,
  "metadata": {
    "colab": {
      "name": "gradpredict.ipynb",
      "version": "0.3.2",
      "provenance": []
    },
    "kernelspec": {
      "name": "python3",
      "display_name": "Python 3"
    }
  },
  "cells": [
    {
      "metadata": {
        "id": "PBxOfTzO-nLj",
        "colab_type": "code",
        "colab": {}
      },
      "cell_type": "code",
      "source": [
        "import numpy as np\n",
        "import pandas as pd\n",
        "import matplotlib.pyplot as plt\n",
        "from sklearn.linear_model import LinearRegression\n",
        "from sklearn.ensemble import RandomForestClassifier\n",
        "from sklearn.tree import DecisionTreeRegressor \n",
        "from sklearn.ensemble import RandomForestRegressor"
      ],
      "execution_count": 0,
      "outputs": []
    },
    {
      "metadata": {
        "id": "NYS5Ch53-5II",
        "colab_type": "code",
        "colab": {}
      },
      "cell_type": "code",
      "source": [
        "t=pd.read_csv('Admission_Predict.csv').drop('Serial No.',axis=1)"
      ],
      "execution_count": 0,
      "outputs": []
    },
    {
      "metadata": {
        "id": "60lTfU9A_CFq",
        "colab_type": "code",
        "outputId": "b73b3f52-8400-4420-fea1-3f4e9f4d87ed",
        "colab": {
          "base_uri": "https://localhost:8080/",
          "height": 431
        }
      },
      "cell_type": "code",
      "source": [
        "import seaborn as sns\n",
        "# to see the relationship between different parameters\n",
        "corr = t.corr()\n",
        "sns.heatmap(corr, xticklabels=corr.columns.values,yticklabels=corr.columns.values)"
      ],
      "execution_count": 55,
      "outputs": [
        {
          "output_type": "execute_result",
          "data": {
            "text/plain": [
              "<matplotlib.axes._subplots.AxesSubplot at 0x7f5e7ba91668>"
            ]
          },
          "metadata": {
            "tags": []
          },
          "execution_count": 55
        },
        {
          "output_type": "display_data",
          "data": {
            "image/png": "[encoded data removed]",
            "text/plain": [
              "<Figure size 576x396 with 2 Axes>"
            ]
          },
          "metadata": {
            "tags": []
          }
        }
      ]
    },
    {
      "metadata": {
        "id": "JWYqrECcQabt",
        "colab_type": "code",
        "colab": {}
      },
      "cell_type": "code",
      "source": [
        "training_data=np.asarray(t)\n",
        "x=np.reshape(training_data[:,0:7],(400,7))\n",
        "y=np.reshape(training_data[:,7],(400,1))"
      ],
      "execution_count": 0,
      "outputs": []
    },
    {
      "metadata": {
        "id": "gqjYraa_RD7v",
        "colab_type": "code",
        "colab": {
          "base_uri": "https://localhost:8080/",
          "height": 34
        },
        "outputId": "4e81d01c-6d14-40e9-9037-81f5c4c2fddc"
      },
      "cell_type": "code",
      "source": [
        "# linear regression model\n",
        "\n",
        "model = LinearRegression()\n",
        "model.fit(x,y)\n",
        "# accuracy of train data\n",
        "model.score(x,y) "
      ],
      "execution_count": 57,
      "outputs": [
        {
          "output_type": "execute_result",
          "data": {
            "text/plain": [
              "0.8034713719824393"
            ]
          },
          "metadata": {
            "tags": []
          },
          "execution_count": 57
        }
      ]
    },
    {
      "metadata": {
        "id": "hjBVp8WLvou_",
        "colab_type": "code",
        "colab": {}
      },
      "cell_type": "code",
      "source": [
        "test=pd.read_csv('Admission_Predict_Ver1.1.csv').drop('Serial No.',axis=1)\n",
        "test_data=np.asarray(test)\n",
        "testx=np.reshape(test_data[400:,0:7],(100,7))\n",
        "testy=np.reshape(test_data[400:,7],(100,1))"
      ],
      "execution_count": 0,
      "outputs": []
    },
    {
      "metadata": {
        "id": "Ym6NgM9tvRXC",
        "colab_type": "code",
        "colab": {
          "base_uri": "https://localhost:8080/",
          "height": 34
        },
        "outputId": "430abe30-7ac7-47de-a96a-2b8b62023e1a"
      },
      "cell_type": "code",
      "source": [
        "# accuracy of test data \n",
        "model.score(testx,testy)"
      ],
      "execution_count": 59,
      "outputs": [
        {
          "output_type": "execute_result",
          "data": {
            "text/plain": [
              "0.8982869098533861"
            ]
          },
          "metadata": {
            "tags": []
          },
          "execution_count": 59
        }
      ]
    },
    {
      "metadata": {
        "id": "-bIOwRlpw2zu",
        "colab_type": "code",
        "colab": {
          "base_uri": "https://localhost:8080/",
          "height": 34
        },
        "outputId": "40c69c63-cd06-43f2-ace7-584cf345f9d6"
      },
      "cell_type": "code",
      "source": [
        "# decision tree model\n",
        "model = DecisionTreeRegressor()\n",
        "model.fit(x,y)\n",
        "# accuracy of train data\n",
        "model.score(x,y) "
      ],
      "execution_count": 73,
      "outputs": [
        {
          "output_type": "execute_result",
          "data": {
            "text/plain": [
              "1.0"
            ]
          },
          "metadata": {
            "tags": []
          },
          "execution_count": 73
        }
      ]
    },
    {
      "metadata": {
        "id": "afYTGbFGxhY7",
        "colab_type": "code",
        "colab": {
          "base_uri": "https://localhost:8080/",
          "height": 34
        },
        "outputId": "06ec244e-eaa5-4a42-a9d2-12683ecf1c67"
      },
      "cell_type": "code",
      "source": [
        "# accuracy of test data \n",
        "model.score(testx,testy)"
      ],
      "execution_count": 74,
      "outputs": [
        {
          "output_type": "execute_result",
          "data": {
            "text/plain": [
              "0.5765758656520968"
            ]
          },
          "metadata": {
            "tags": []
          },
          "execution_count": 74
        }
      ]
    },
    {
      "metadata": {
        "id": "mVuuiKMMyCuo",
        "colab_type": "code",
        "colab": {
          "base_uri": "https://localhost:8080/",
          "height": 88
        },
        "outputId": "f5a92b8c-5c92-4609-eaf0-71320d8fa87a"
      },
      "cell_type": "code",
      "source": [
        "# random forest regressor \n",
        "y= np.ravel(y)\n",
        "model = RandomForestRegressor()\n",
        "model.fit(x,y)\n",
        "# accuracy of train data\n",
        "model.score(x,y) "
      ],
      "execution_count": 89,
      "outputs": [
        {
          "output_type": "stream",
          "text": [
            "/usr/local/lib/python3.6/dist-packages/sklearn/ensemble/forest.py:246: FutureWarning: The default value of n_estimators will change from 10 in version 0.20 to 100 in 0.22.\n",
            "  \"10 in version 0.20 to 100 in 0.22.\", FutureWarning)\n"
          ],
          "name": "stderr"
        },
        {
          "output_type": "execute_result",
          "data": {
            "text/plain": [
              "0.9590871106769981"
            ]
          },
          "metadata": {
            "tags": []
          },
          "execution_count": 89
        }
      ]
    },
    {
      "metadata": {
        "id": "ZrL-GyzgymJ6",
        "colab_type": "code",
        "colab": {
          "base_uri": "https://localhost:8080/",
          "height": 34
        },
        "outputId": "6a575465-88dd-404f-c770-0b0825808104"
      },
      "cell_type": "code",
      "source": [
        "model.score(testx,testy)"
      ],
      "execution_count": 90,
      "outputs": [
        {
          "output_type": "execute_result",
          "data": {
            "text/plain": [
              "0.8460177547870436"
            ]
          },
          "metadata": {
            "tags": []
          },
          "execution_count": 90
        }
      ]
    }
  ]
}